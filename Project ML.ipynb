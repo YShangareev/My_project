{
 "cells": [
  {
   "cell_type": "code",
   "execution_count": 1,
   "id": "29e5ef36",
   "metadata": {},
   "outputs": [],
   "source": [
    "import pandas as pd\n",
    "from sklearn.linear_model import LinearRegression\n",
    "from sklearn.metrics import r2_score, mean_squared_error\n",
    "from sklearn.model_selection import train_test_split, GridSearchCV\n",
    "from sklearn.preprocessing import StandardScaler\n",
    "from sklearn.tree import DecisionTreeRegressor\n",
    "import seaborn as sns\n",
    "import matplotlib.pyplot as plt"
   ]
  },
  {
   "cell_type": "code",
   "execution_count": 2,
   "id": "cbd1d4c8",
   "metadata": {},
   "outputs": [
    {
     "data": {
      "text/html": [
       "<div>\n",
       "<style scoped>\n",
       "    .dataframe tbody tr th:only-of-type {\n",
       "        vertical-align: middle;\n",
       "    }\n",
       "\n",
       "    .dataframe tbody tr th {\n",
       "        vertical-align: top;\n",
       "    }\n",
       "\n",
       "    .dataframe thead th {\n",
       "        text-align: right;\n",
       "    }\n",
       "</style>\n",
       "<table border=\"1\" class=\"dataframe\">\n",
       "  <thead>\n",
       "    <tr style=\"text-align: right;\">\n",
       "      <th></th>\n",
       "      <th>model</th>\n",
       "      <th>year</th>\n",
       "      <th>price</th>\n",
       "      <th>transmission</th>\n",
       "      <th>mileage</th>\n",
       "      <th>fuelType</th>\n",
       "      <th>tax</th>\n",
       "      <th>mpg</th>\n",
       "      <th>engineSize</th>\n",
       "      <th>Make</th>\n",
       "    </tr>\n",
       "  </thead>\n",
       "  <tbody>\n",
       "    <tr>\n",
       "      <th>0</th>\n",
       "      <td>A1</td>\n",
       "      <td>2017</td>\n",
       "      <td>12500</td>\n",
       "      <td>Manual</td>\n",
       "      <td>15735</td>\n",
       "      <td>Petrol</td>\n",
       "      <td>150.0</td>\n",
       "      <td>55.4</td>\n",
       "      <td>1.4</td>\n",
       "      <td>audi</td>\n",
       "    </tr>\n",
       "    <tr>\n",
       "      <th>1</th>\n",
       "      <td>A6</td>\n",
       "      <td>2016</td>\n",
       "      <td>16500</td>\n",
       "      <td>Automatic</td>\n",
       "      <td>36203</td>\n",
       "      <td>Diesel</td>\n",
       "      <td>20.0</td>\n",
       "      <td>64.2</td>\n",
       "      <td>2.0</td>\n",
       "      <td>audi</td>\n",
       "    </tr>\n",
       "    <tr>\n",
       "      <th>2</th>\n",
       "      <td>A1</td>\n",
       "      <td>2016</td>\n",
       "      <td>11000</td>\n",
       "      <td>Manual</td>\n",
       "      <td>29946</td>\n",
       "      <td>Petrol</td>\n",
       "      <td>30.0</td>\n",
       "      <td>55.4</td>\n",
       "      <td>1.4</td>\n",
       "      <td>audi</td>\n",
       "    </tr>\n",
       "    <tr>\n",
       "      <th>3</th>\n",
       "      <td>A4</td>\n",
       "      <td>2017</td>\n",
       "      <td>16800</td>\n",
       "      <td>Automatic</td>\n",
       "      <td>25952</td>\n",
       "      <td>Diesel</td>\n",
       "      <td>145.0</td>\n",
       "      <td>67.3</td>\n",
       "      <td>2.0</td>\n",
       "      <td>audi</td>\n",
       "    </tr>\n",
       "    <tr>\n",
       "      <th>4</th>\n",
       "      <td>A3</td>\n",
       "      <td>2019</td>\n",
       "      <td>17300</td>\n",
       "      <td>Manual</td>\n",
       "      <td>1998</td>\n",
       "      <td>Petrol</td>\n",
       "      <td>145.0</td>\n",
       "      <td>49.6</td>\n",
       "      <td>1.0</td>\n",
       "      <td>audi</td>\n",
       "    </tr>\n",
       "  </tbody>\n",
       "</table>\n",
       "</div>"
      ],
      "text/plain": [
       "  model  year  price transmission  mileage fuelType    tax   mpg  engineSize  \\\n",
       "0    A1  2017  12500       Manual    15735   Petrol  150.0  55.4         1.4   \n",
       "1    A6  2016  16500    Automatic    36203   Diesel   20.0  64.2         2.0   \n",
       "2    A1  2016  11000       Manual    29946   Petrol   30.0  55.4         1.4   \n",
       "3    A4  2017  16800    Automatic    25952   Diesel  145.0  67.3         2.0   \n",
       "4    A3  2019  17300       Manual     1998   Petrol  145.0  49.6         1.0   \n",
       "\n",
       "   Make  \n",
       "0  audi  \n",
       "1  audi  \n",
       "2  audi  \n",
       "3  audi  \n",
       "4  audi  "
      ]
     },
     "execution_count": 2,
     "metadata": {},
     "output_type": "execute_result"
    }
   ],
   "source": [
    "df = pd.read_csv('D:\\Python\\Datasets\\cars_dataset.csv', encoding='utf-8')\n",
    "df.head()"
   ]
  },
  {
   "cell_type": "code",
   "execution_count": 3,
   "id": "59ac978b",
   "metadata": {},
   "outputs": [],
   "source": [
    "df.columns = df.columns.str.lower()\n",
    "df.rename(columns={'fueltype': 'fuel type', 'enginesize': 'engine size'}, inplace=True)\n",
    "df['make'] = df['make'].replace({'audi': 'Audi', 'vw': 'Volkswagen', 'toyota': 'Toyota', 'skoda': 'Skoda'})"
   ]
  },
  {
   "cell_type": "code",
   "execution_count": 5,
   "id": "cd209c5b",
   "metadata": {},
   "outputs": [],
   "source": [
    "group = df['make'].value_counts()"
   ]
  },
  {
   "cell_type": "code",
   "execution_count": 6,
   "id": "b3b7e55b",
   "metadata": {},
   "outputs": [
    {
     "data": {
      "text/plain": [
       "([<matplotlib.patches.Wedge at 0x2bb8988cb80>,\n",
       "  <matplotlib.patches.Wedge at 0x2bb8988d120>,\n",
       "  <matplotlib.patches.Wedge at 0x2bb8988d810>,\n",
       "  <matplotlib.patches.Wedge at 0x2bb8988df30>,\n",
       "  <matplotlib.patches.Wedge at 0x2bb8988e650>,\n",
       "  <matplotlib.patches.Wedge at 0x2bb8988ed70>,\n",
       "  <matplotlib.patches.Wedge at 0x2bb8988f490>],\n",
       " [Text(0.7826852384749481, 0.772919023878578, 'Ford'),\n",
       "  Text(-0.6611611392232708, 0.8791279474462104, 'Volkswagen'),\n",
       "  Text(-1.078294058245904, -0.21744407085864426, 'BMW'),\n",
       "  Text(-0.47006605787401906, -0.9945038467672106, 'Audi'),\n",
       "  Text(0.33910175140149956, -1.0464272560462269, 'Toyota'),\n",
       "  Text(0.8460023332773362, -0.7030505330979441, 'Skoda'),\n",
       "  Text(1.0756538725074551, -0.2301494005200002, 'Hyundai')],\n",
       " [Text(0.4269192209863353, 0.4215921948428607, '25%'),\n",
       "  Text(-0.3606333486672386, 0.47952433497066016, '21%'),\n",
       "  Text(-0.5881603954068567, -0.11860585683198777, '15%'),\n",
       "  Text(-0.2563996679312831, -0.5424566436912057, '15%'),\n",
       "  Text(0.1849645916735452, -0.5707785032979419, '9%'),\n",
       "  Text(0.46145581815127423, -0.3834821089625149, '9%'),\n",
       "  Text(0.5867202940949755, -0.12553603664727284, '7%')])"
      ]
     },
     "execution_count": 6,
     "metadata": {},
     "output_type": "execute_result"
    },
    {
     "data": {
      "image/png": "[encoded data removed]",
      "text/plain": [
       "<Figure size 640x480 with 1 Axes>"
      ]
     },
     "metadata": {},
     "output_type": "display_data"
    }
   ],
   "source": [
    "plt.title('Количество машин в процентах по брендам')\n",
    "plt.pie(group, labels=group.index, autopct='%.0f%%')"
   ]
  },
  {
   "cell_type": "code",
   "execution_count": 7,
   "id": "5d617a8b",
   "metadata": {},
   "outputs": [],
   "source": [
    "group_mpg = df.groupby(['make'])['mpg'].mean()\n",
    "group_mpg = group_mpg.round(2)\n",
    "group_mpg = group_mpg.sort_values()"
   ]
  },
  {
   "cell_type": "code",
   "execution_count": 8,
   "id": "cd551dcb",
   "metadata": {},
   "outputs": [
    {
     "data": {
      "text/plain": [
       "(0.0, 70.0)"
      ]
     },
     "execution_count": 8,
     "metadata": {},
     "output_type": "execute_result"
    },
    {
     "data": {
      "image/png": "[encoded data removed]",
      "text/plain": [
       "<Figure size 640x480 with 1 Axes>"
      ]
     },
     "metadata": {},
     "output_type": "display_data"
    }
   ],
   "source": [
    "ax = sns.barplot(x=group_mpg.index, y=group_mpg)\n",
    "for i in ax.containers:\n",
    "    ax.bar_label(i, )\n",
    "plt.xlabel('Производители')\n",
    "plt.ylabel('Средний расход(Милей на галлон')\n",
    "plt.ylim(0, 70)"
   ]
  },
  {
   "cell_type": "code",
   "execution_count": 9,
   "id": "9abcc08d",
   "metadata": {},
   "outputs": [],
   "source": [
    "df['transmission'] = df['transmission'].replace({'Manual': 0, 'Automatic': 1, 'Semi-Auto': 3, 'Other': 4})\n",
    "df['fuel type'] = df['fuel type'].replace({'Petrol': 0, 'Diesel': 1, 'Hybrid': 2, 'Electric': 3, 'Other': 4})\n",
    "df['make'] = df['make'].replace(\n",
    "    {'Audi': 0, 'BMW': 1, 'Ford': 2, 'Volkswagen': 3, 'Toyota': 4, 'Skoda': 5, 'Hyundai': 6})"
   ]
  },
  {
   "cell_type": "code",
   "execution_count": 10,
   "id": "d2e49831",
   "metadata": {},
   "outputs": [],
   "source": [
    "y = df['price']\n",
    "X = df.drop(columns={'price', 'model'})"
   ]
  },
  {
   "cell_type": "code",
   "execution_count": 11,
   "id": "9adbffc3",
   "metadata": {},
   "outputs": [],
   "source": [
    "X_train, X_test, y_train, y_test = train_test_split(X, y, test_size=0.3)"
   ]
  },
  {
   "cell_type": "code",
   "execution_count": 12,
   "id": "ff5d30eb",
   "metadata": {},
   "outputs": [],
   "source": [
    "scaller = StandardScaler()\n",
    "X_train = scaller.fit_transform(X_train)\n",
    "X_test = scaller.transform(X_test)"
   ]
  },
  {
   "cell_type": "code",
   "execution_count": 13,
   "id": "61063e00",
   "metadata": {},
   "outputs": [],
   "source": [
    "model = LinearRegression()\n",
    "model.fit(X_train, y_train)\n",
    "pred_train = model.predict(X_train)\n",
    "pred_test = model.predict(X_test)"
   ]
  },
  {
   "cell_type": "code",
   "execution_count": 14,
   "id": "04d0fda2",
   "metadata": {},
   "outputs": [],
   "source": [
    "MSE_train = mean_squared_error(y_train, pred_train)\n",
    "RMSE_train = mean_squared_error(y_train, pred_train, squared=False)\n",
    "R2_train = r2_score(y_train, pred_train)\n",
    "MSE_test = mean_squared_error(y_test, pred_test)\n",
    "RMSE_test = mean_squared_error(y_test, pred_test, squared=False)\n",
    "R2_test = r2_score(y_test, pred_test)"
   ]
  },
  {
   "cell_type": "code",
   "execution_count": 15,
   "id": "f903182d",
   "metadata": {},
   "outputs": [
    {
     "name": "stdout",
     "output_type": "stream",
     "text": [
      "Метрика (MSE) для обучающей выборки:21917782.78\n",
      "Метрика (MSE) для тестовой выборки:22212582.0\n",
      "Метрика (R2) для обучающей выборки:0.74\n",
      "Метрика (R2) для тестовой выборки:0.75\n",
      "Метрика (RMSE) для обучающей выборки:4681.64\n",
      "Метрика (RMSE) для тестовой выборки:4713.02\n"
     ]
    }
   ],
   "source": [
    "print(\n",
    "    f'Метрика (MSE) для обучающей выборки:{round(MSE_train, 2)}\\nМетрика (MSE) для тестовой выборки:{round(MSE_test, 2)}\\n'\n",
    "    f'Метрика (R2) для обучающей выборки:{round(R2_train, 2)}\\nМетрика (R2) для тестовой выборки:{round(R2_test, 2)}\\n'\n",
    "    f'Метрика (RMSE) для обучающей выборки:{round(RMSE_train, 2)}\\nМетрика (RMSE) для тестовой выборки:{round(RMSE_test, 2)}')"
   ]
  },
  {
   "cell_type": "code",
   "execution_count": 42,
   "id": "fe868334",
   "metadata": {},
   "outputs": [],
   "source": [
    "model_tree = DecisionTreeRegressor(max_depth=16, min_samples_leaf=3, random_state=1)"
   ]
  },
  {
   "cell_type": "code",
   "execution_count": 43,
   "id": "2dcc92b1",
   "metadata": {},
   "outputs": [],
   "source": [
    "model_tree.fit(X_train,y_train)\n",
    "predict_train = model_tree.predict(X_train)\n",
    "predict_test = model_tree.predict(X_test)"
   ]
  },
  {
   "cell_type": "code",
   "execution_count": 44,
   "id": "4746db47",
   "metadata": {},
   "outputs": [],
   "source": [
    "MSE_train_tree = mean_squared_error(y_train, predict_train)\n",
    "RMSE_train_tree = mean_squared_error(y_train, predict_train, squared=False)\n",
    "R2_train_tree = r2_score(y_train, predict_train)\n",
    "MSE_test_tree = mean_squared_error(y_test, predict_test)\n",
    "RMSE_test_tree = mean_squared_error(y_test, predict_test, squared=False)\n",
    "R2_test_tree = r2_score(y_test, predict_test)"
   ]
  },
  {
   "cell_type": "code",
   "execution_count": 45,
   "id": "465a5455",
   "metadata": {},
   "outputs": [
    {
     "name": "stdout",
     "output_type": "stream",
     "text": [
      "Метрика (MSE) для обучающей выборки:2799794.03\n",
      "Метрика (MSE) для тестовой выборки:5659282.25\n",
      "Метрика (R2) для обучающей выборки:0.97\n",
      "Метрика (R2) для тестовой выборки:0.94\n",
      "Метрика (RMSE) для обучающей выборки:1673.26\n",
      "Метрика (RMSE) для тестовой выборки:2378.92\n"
     ]
    }
   ],
   "source": [
    "print(\n",
    "    f'Метрика (MSE) для обучающей выборки:{round(MSE_train_tree, 2)}\\nМетрика (MSE) для тестовой выборки:{round(MSE_test_tree, 2)}\\n'\n",
    "    f'Метрика (R2) для обучающей выборки:{round(R2_train_tree, 2)}\\nМетрика (R2) для тестовой выборки:{round(R2_test_tree, 2)}\\n'\n",
    "    f'Метрика (RMSE) для обучающей выборки:{round(RMSE_train_tree, 2)}\\nМетрика (RMSE) для тестовой выборки:{round(RMSE_test_tree, 2)}')"
   ]
  },
  {
   "cell_type": "markdown",
   "id": "4ba5ce29",
   "metadata": {},
   "source": [
    "Результаты"
   ]
  },
  {
   "cell_type": "markdown",
   "id": "0886940b",
   "metadata": {},
   "source": [
    "Линейная регрессия себя показала не лучшим образом, метрики плохие. Хоть и различие по RMSE в линейной модели составляет порядка 5 тысяч, и для данного целевого значения это отклонение не является фатальным, но не следует применять данную модель на практике. Модель дерева решений показала лучший результат, оптимальные параметры были подобраны автоматическим путем"
   ]
  }
 ],
 "metadata": {
  "kernelspec": {
   "display_name": "Python 3 (ipykernel)",
   "language": "python",
   "name": "python3"
  },
  "language_info": {
   "codemirror_mode": {
    "name": "ipython",
    "version": 3
   },
   "file_extension": ".py",
   "mimetype": "text/x-python",
   "name": "python",
   "nbconvert_exporter": "python",
   "pygments_lexer": "ipython3",
   "version": "3.10.5"
  }
 },
 "nbformat": 4,
 "nbformat_minor": 5
}
