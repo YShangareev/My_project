{
 "cells": [
  {
   "cell_type": "code",
   "execution_count": 75,
   "id": "71d07785",
   "metadata": {},
   "outputs": [],
   "source": [
    "import pandas as pd\n",
    "import matplotlib.pyplot as plt\n",
    "import seaborn as sns\n",
    "from sklearn.linear_model import LogisticRegression\n",
    "from sklearn.tree import DecisionTreeRegressor, DecisionTreeClassifier, plot_tree\n",
    "from sklearn.model_selection import train_test_split\n",
    "from sklearn.metrics import classification_report, r2_score, accuracy_score, mean_squared_error\n",
    "from sklearn.preprocessing import StandardScaler"
   ]
  },
  {
   "cell_type": "markdown",
   "id": "cc230f63",
   "metadata": {},
   "source": [
    "Импортируем датасет"
   ]
  },
  {
   "cell_type": "code",
   "execution_count": 76,
   "id": "d2f3e972",
   "metadata": {},
   "outputs": [],
   "source": [
    "df = pd.read_csv(r'C:\\Users\\shang\\Desktop\\GeekBrains\\Интенсив\\Библиотеки\\survey lung cancer.csv')"
   ]
  },
  {
   "cell_type": "code",
   "execution_count": 77,
   "id": "df67f831",
   "metadata": {},
   "outputs": [
    {
     "data": {
      "text/html": [
       "<div>\n",
       "<style scoped>\n",
       "    .dataframe tbody tr th:only-of-type {\n",
       "        vertical-align: middle;\n",
       "    }\n",
       "\n",
       "    .dataframe tbody tr th {\n",
       "        vertical-align: top;\n",
       "    }\n",
       "\n",
       "    .dataframe thead th {\n",
       "        text-align: right;\n",
       "    }\n",
       "</style>\n",
       "<table border=\"1\" class=\"dataframe\">\n",
       "  <thead>\n",
       "    <tr style=\"text-align: right;\">\n",
       "      <th></th>\n",
       "      <th>GENDER</th>\n",
       "      <th>AGE</th>\n",
       "      <th>SMOKING</th>\n",
       "      <th>YELLOW_FINGERS</th>\n",
       "      <th>ANXIETY</th>\n",
       "      <th>PEER_PRESSURE</th>\n",
       "      <th>CHRONIC DISEASE</th>\n",
       "      <th>FATIGUE</th>\n",
       "      <th>ALLERGY</th>\n",
       "      <th>WHEEZING</th>\n",
       "      <th>ALCOHOL CONSUMING</th>\n",
       "      <th>COUGHING</th>\n",
       "      <th>SHORTNESS OF BREATH</th>\n",
       "      <th>SWALLOWING DIFFICULTY</th>\n",
       "      <th>CHEST PAIN</th>\n",
       "      <th>LUNG_CANCER</th>\n",
       "    </tr>\n",
       "  </thead>\n",
       "  <tbody>\n",
       "    <tr>\n",
       "      <th>0</th>\n",
       "      <td>M</td>\n",
       "      <td>69</td>\n",
       "      <td>1</td>\n",
       "      <td>2</td>\n",
       "      <td>2</td>\n",
       "      <td>1</td>\n",
       "      <td>1</td>\n",
       "      <td>2</td>\n",
       "      <td>1</td>\n",
       "      <td>2</td>\n",
       "      <td>2</td>\n",
       "      <td>2</td>\n",
       "      <td>2</td>\n",
       "      <td>2</td>\n",
       "      <td>2</td>\n",
       "      <td>YES</td>\n",
       "    </tr>\n",
       "    <tr>\n",
       "      <th>1</th>\n",
       "      <td>M</td>\n",
       "      <td>74</td>\n",
       "      <td>2</td>\n",
       "      <td>1</td>\n",
       "      <td>1</td>\n",
       "      <td>1</td>\n",
       "      <td>2</td>\n",
       "      <td>2</td>\n",
       "      <td>2</td>\n",
       "      <td>1</td>\n",
       "      <td>1</td>\n",
       "      <td>1</td>\n",
       "      <td>2</td>\n",
       "      <td>2</td>\n",
       "      <td>2</td>\n",
       "      <td>YES</td>\n",
       "    </tr>\n",
       "    <tr>\n",
       "      <th>2</th>\n",
       "      <td>F</td>\n",
       "      <td>59</td>\n",
       "      <td>1</td>\n",
       "      <td>1</td>\n",
       "      <td>1</td>\n",
       "      <td>2</td>\n",
       "      <td>1</td>\n",
       "      <td>2</td>\n",
       "      <td>1</td>\n",
       "      <td>2</td>\n",
       "      <td>1</td>\n",
       "      <td>2</td>\n",
       "      <td>2</td>\n",
       "      <td>1</td>\n",
       "      <td>2</td>\n",
       "      <td>NO</td>\n",
       "    </tr>\n",
       "    <tr>\n",
       "      <th>3</th>\n",
       "      <td>M</td>\n",
       "      <td>63</td>\n",
       "      <td>2</td>\n",
       "      <td>2</td>\n",
       "      <td>2</td>\n",
       "      <td>1</td>\n",
       "      <td>1</td>\n",
       "      <td>1</td>\n",
       "      <td>1</td>\n",
       "      <td>1</td>\n",
       "      <td>2</td>\n",
       "      <td>1</td>\n",
       "      <td>1</td>\n",
       "      <td>2</td>\n",
       "      <td>2</td>\n",
       "      <td>NO</td>\n",
       "    </tr>\n",
       "    <tr>\n",
       "      <th>4</th>\n",
       "      <td>F</td>\n",
       "      <td>63</td>\n",
       "      <td>1</td>\n",
       "      <td>2</td>\n",
       "      <td>1</td>\n",
       "      <td>1</td>\n",
       "      <td>1</td>\n",
       "      <td>1</td>\n",
       "      <td>1</td>\n",
       "      <td>2</td>\n",
       "      <td>1</td>\n",
       "      <td>2</td>\n",
       "      <td>2</td>\n",
       "      <td>1</td>\n",
       "      <td>1</td>\n",
       "      <td>NO</td>\n",
       "    </tr>\n",
       "    <tr>\n",
       "      <th>...</th>\n",
       "      <td>...</td>\n",
       "      <td>...</td>\n",
       "      <td>...</td>\n",
       "      <td>...</td>\n",
       "      <td>...</td>\n",
       "      <td>...</td>\n",
       "      <td>...</td>\n",
       "      <td>...</td>\n",
       "      <td>...</td>\n",
       "      <td>...</td>\n",
       "      <td>...</td>\n",
       "      <td>...</td>\n",
       "      <td>...</td>\n",
       "      <td>...</td>\n",
       "      <td>...</td>\n",
       "      <td>...</td>\n",
       "    </tr>\n",
       "    <tr>\n",
       "      <th>304</th>\n",
       "      <td>F</td>\n",
       "      <td>56</td>\n",
       "      <td>1</td>\n",
       "      <td>1</td>\n",
       "      <td>1</td>\n",
       "      <td>2</td>\n",
       "      <td>2</td>\n",
       "      <td>2</td>\n",
       "      <td>1</td>\n",
       "      <td>1</td>\n",
       "      <td>2</td>\n",
       "      <td>2</td>\n",
       "      <td>2</td>\n",
       "      <td>2</td>\n",
       "      <td>1</td>\n",
       "      <td>YES</td>\n",
       "    </tr>\n",
       "    <tr>\n",
       "      <th>305</th>\n",
       "      <td>M</td>\n",
       "      <td>70</td>\n",
       "      <td>2</td>\n",
       "      <td>1</td>\n",
       "      <td>1</td>\n",
       "      <td>1</td>\n",
       "      <td>1</td>\n",
       "      <td>2</td>\n",
       "      <td>2</td>\n",
       "      <td>2</td>\n",
       "      <td>2</td>\n",
       "      <td>2</td>\n",
       "      <td>2</td>\n",
       "      <td>1</td>\n",
       "      <td>2</td>\n",
       "      <td>YES</td>\n",
       "    </tr>\n",
       "    <tr>\n",
       "      <th>306</th>\n",
       "      <td>M</td>\n",
       "      <td>58</td>\n",
       "      <td>2</td>\n",
       "      <td>1</td>\n",
       "      <td>1</td>\n",
       "      <td>1</td>\n",
       "      <td>1</td>\n",
       "      <td>1</td>\n",
       "      <td>2</td>\n",
       "      <td>2</td>\n",
       "      <td>2</td>\n",
       "      <td>2</td>\n",
       "      <td>1</td>\n",
       "      <td>1</td>\n",
       "      <td>2</td>\n",
       "      <td>YES</td>\n",
       "    </tr>\n",
       "    <tr>\n",
       "      <th>307</th>\n",
       "      <td>M</td>\n",
       "      <td>67</td>\n",
       "      <td>2</td>\n",
       "      <td>1</td>\n",
       "      <td>2</td>\n",
       "      <td>1</td>\n",
       "      <td>1</td>\n",
       "      <td>2</td>\n",
       "      <td>2</td>\n",
       "      <td>1</td>\n",
       "      <td>2</td>\n",
       "      <td>2</td>\n",
       "      <td>2</td>\n",
       "      <td>1</td>\n",
       "      <td>2</td>\n",
       "      <td>YES</td>\n",
       "    </tr>\n",
       "    <tr>\n",
       "      <th>308</th>\n",
       "      <td>M</td>\n",
       "      <td>62</td>\n",
       "      <td>1</td>\n",
       "      <td>1</td>\n",
       "      <td>1</td>\n",
       "      <td>2</td>\n",
       "      <td>1</td>\n",
       "      <td>2</td>\n",
       "      <td>2</td>\n",
       "      <td>2</td>\n",
       "      <td>2</td>\n",
       "      <td>1</td>\n",
       "      <td>1</td>\n",
       "      <td>2</td>\n",
       "      <td>1</td>\n",
       "      <td>YES</td>\n",
       "    </tr>\n",
       "  </tbody>\n",
       "</table>\n",
       "<p>309 rows × 16 columns</p>\n",
       "</div>"
      ],
      "text/plain": [
       "    GENDER  AGE  SMOKING  YELLOW_FINGERS  ANXIETY  PEER_PRESSURE  \\\n",
       "0        M   69        1               2        2              1   \n",
       "1        M   74        2               1        1              1   \n",
       "2        F   59        1               1        1              2   \n",
       "3        M   63        2               2        2              1   \n",
       "4        F   63        1               2        1              1   \n",
       "..     ...  ...      ...             ...      ...            ...   \n",
       "304      F   56        1               1        1              2   \n",
       "305      M   70        2               1        1              1   \n",
       "306      M   58        2               1        1              1   \n",
       "307      M   67        2               1        2              1   \n",
       "308      M   62        1               1        1              2   \n",
       "\n",
       "     CHRONIC DISEASE  FATIGUE   ALLERGY   WHEEZING  ALCOHOL CONSUMING  \\\n",
       "0                  1         2         1         2                  2   \n",
       "1                  2         2         2         1                  1   \n",
       "2                  1         2         1         2                  1   \n",
       "3                  1         1         1         1                  2   \n",
       "4                  1         1         1         2                  1   \n",
       "..               ...       ...       ...       ...                ...   \n",
       "304                2         2         1         1                  2   \n",
       "305                1         2         2         2                  2   \n",
       "306                1         1         2         2                  2   \n",
       "307                1         2         2         1                  2   \n",
       "308                1         2         2         2                  2   \n",
       "\n",
       "     COUGHING  SHORTNESS OF BREATH  SWALLOWING DIFFICULTY  CHEST PAIN  \\\n",
       "0           2                    2                      2           2   \n",
       "1           1                    2                      2           2   \n",
       "2           2                    2                      1           2   \n",
       "3           1                    1                      2           2   \n",
       "4           2                    2                      1           1   \n",
       "..        ...                  ...                    ...         ...   \n",
       "304         2                    2                      2           1   \n",
       "305         2                    2                      1           2   \n",
       "306         2                    1                      1           2   \n",
       "307         2                    2                      1           2   \n",
       "308         1                    1                      2           1   \n",
       "\n",
       "    LUNG_CANCER  \n",
       "0           YES  \n",
       "1           YES  \n",
       "2            NO  \n",
       "3            NO  \n",
       "4            NO  \n",
       "..          ...  \n",
       "304         YES  \n",
       "305         YES  \n",
       "306         YES  \n",
       "307         YES  \n",
       "308         YES  \n",
       "\n",
       "[309 rows x 16 columns]"
      ]
     },
     "execution_count": 77,
     "metadata": {},
     "output_type": "execute_result"
    }
   ],
   "source": [
    "df"
   ]
  },
  {
   "cell_type": "markdown",
   "id": "81c63652",
   "metadata": {},
   "source": [
    "Производим подготовку данных"
   ]
  },
  {
   "cell_type": "code",
   "execution_count": 78,
   "id": "836c568a",
   "metadata": {},
   "outputs": [],
   "source": [
    "df['GENDER'] = df['GENDER'].replace({'M': 'Male', 'F': 'Female'})\n",
    "df = df.sort_values(by=['AGE'])\n",
    "df['LUNG_CANCER'] = df['LUNG_CANCER'].replace({'YES': 2, 'NO': 1})\n",
    "df = df.reset_index(drop=True)"
   ]
  },
  {
   "cell_type": "code",
   "execution_count": 79,
   "id": "4b46fc51",
   "metadata": {},
   "outputs": [
    {
     "data": {
      "text/html": [
       "<div>\n",
       "<style scoped>\n",
       "    .dataframe tbody tr th:only-of-type {\n",
       "        vertical-align: middle;\n",
       "    }\n",
       "\n",
       "    .dataframe tbody tr th {\n",
       "        vertical-align: top;\n",
       "    }\n",
       "\n",
       "    .dataframe thead th {\n",
       "        text-align: right;\n",
       "    }\n",
       "</style>\n",
       "<table border=\"1\" class=\"dataframe\">\n",
       "  <thead>\n",
       "    <tr style=\"text-align: right;\">\n",
       "      <th></th>\n",
       "      <th>GENDER</th>\n",
       "      <th>AGE</th>\n",
       "      <th>SMOKING</th>\n",
       "      <th>YELLOW_FINGERS</th>\n",
       "      <th>ANXIETY</th>\n",
       "      <th>PEER_PRESSURE</th>\n",
       "      <th>CHRONIC DISEASE</th>\n",
       "      <th>FATIGUE</th>\n",
       "      <th>ALLERGY</th>\n",
       "      <th>WHEEZING</th>\n",
       "      <th>ALCOHOL CONSUMING</th>\n",
       "      <th>COUGHING</th>\n",
       "      <th>SHORTNESS OF BREATH</th>\n",
       "      <th>SWALLOWING DIFFICULTY</th>\n",
       "      <th>CHEST PAIN</th>\n",
       "      <th>LUNG_CANCER</th>\n",
       "    </tr>\n",
       "  </thead>\n",
       "  <tbody>\n",
       "    <tr>\n",
       "      <th>0</th>\n",
       "      <td>Female</td>\n",
       "      <td>21</td>\n",
       "      <td>2</td>\n",
       "      <td>1</td>\n",
       "      <td>1</td>\n",
       "      <td>1</td>\n",
       "      <td>2</td>\n",
       "      <td>2</td>\n",
       "      <td>2</td>\n",
       "      <td>1</td>\n",
       "      <td>1</td>\n",
       "      <td>1</td>\n",
       "      <td>2</td>\n",
       "      <td>1</td>\n",
       "      <td>1</td>\n",
       "      <td>1</td>\n",
       "    </tr>\n",
       "    <tr>\n",
       "      <th>1</th>\n",
       "      <td>Female</td>\n",
       "      <td>38</td>\n",
       "      <td>1</td>\n",
       "      <td>2</td>\n",
       "      <td>1</td>\n",
       "      <td>1</td>\n",
       "      <td>2</td>\n",
       "      <td>2</td>\n",
       "      <td>2</td>\n",
       "      <td>2</td>\n",
       "      <td>1</td>\n",
       "      <td>2</td>\n",
       "      <td>2</td>\n",
       "      <td>1</td>\n",
       "      <td>2</td>\n",
       "      <td>2</td>\n",
       "    </tr>\n",
       "    <tr>\n",
       "      <th>2</th>\n",
       "      <td>Male</td>\n",
       "      <td>39</td>\n",
       "      <td>2</td>\n",
       "      <td>1</td>\n",
       "      <td>1</td>\n",
       "      <td>2</td>\n",
       "      <td>1</td>\n",
       "      <td>2</td>\n",
       "      <td>2</td>\n",
       "      <td>2</td>\n",
       "      <td>2</td>\n",
       "      <td>1</td>\n",
       "      <td>2</td>\n",
       "      <td>1</td>\n",
       "      <td>2</td>\n",
       "      <td>2</td>\n",
       "    </tr>\n",
       "    <tr>\n",
       "      <th>3</th>\n",
       "      <td>Female</td>\n",
       "      <td>44</td>\n",
       "      <td>2</td>\n",
       "      <td>2</td>\n",
       "      <td>2</td>\n",
       "      <td>2</td>\n",
       "      <td>2</td>\n",
       "      <td>2</td>\n",
       "      <td>1</td>\n",
       "      <td>1</td>\n",
       "      <td>1</td>\n",
       "      <td>1</td>\n",
       "      <td>2</td>\n",
       "      <td>2</td>\n",
       "      <td>1</td>\n",
       "      <td>2</td>\n",
       "    </tr>\n",
       "    <tr>\n",
       "      <th>4</th>\n",
       "      <td>Male</td>\n",
       "      <td>44</td>\n",
       "      <td>1</td>\n",
       "      <td>2</td>\n",
       "      <td>1</td>\n",
       "      <td>2</td>\n",
       "      <td>2</td>\n",
       "      <td>2</td>\n",
       "      <td>1</td>\n",
       "      <td>2</td>\n",
       "      <td>1</td>\n",
       "      <td>1</td>\n",
       "      <td>2</td>\n",
       "      <td>2</td>\n",
       "      <td>2</td>\n",
       "      <td>2</td>\n",
       "    </tr>\n",
       "    <tr>\n",
       "      <th>...</th>\n",
       "      <td>...</td>\n",
       "      <td>...</td>\n",
       "      <td>...</td>\n",
       "      <td>...</td>\n",
       "      <td>...</td>\n",
       "      <td>...</td>\n",
       "      <td>...</td>\n",
       "      <td>...</td>\n",
       "      <td>...</td>\n",
       "      <td>...</td>\n",
       "      <td>...</td>\n",
       "      <td>...</td>\n",
       "      <td>...</td>\n",
       "      <td>...</td>\n",
       "      <td>...</td>\n",
       "      <td>...</td>\n",
       "    </tr>\n",
       "    <tr>\n",
       "      <th>304</th>\n",
       "      <td>Male</td>\n",
       "      <td>78</td>\n",
       "      <td>1</td>\n",
       "      <td>2</td>\n",
       "      <td>1</td>\n",
       "      <td>2</td>\n",
       "      <td>2</td>\n",
       "      <td>2</td>\n",
       "      <td>1</td>\n",
       "      <td>2</td>\n",
       "      <td>1</td>\n",
       "      <td>1</td>\n",
       "      <td>2</td>\n",
       "      <td>2</td>\n",
       "      <td>2</td>\n",
       "      <td>2</td>\n",
       "    </tr>\n",
       "    <tr>\n",
       "      <th>305</th>\n",
       "      <td>Male</td>\n",
       "      <td>79</td>\n",
       "      <td>2</td>\n",
       "      <td>1</td>\n",
       "      <td>1</td>\n",
       "      <td>1</td>\n",
       "      <td>2</td>\n",
       "      <td>2</td>\n",
       "      <td>2</td>\n",
       "      <td>1</td>\n",
       "      <td>2</td>\n",
       "      <td>2</td>\n",
       "      <td>2</td>\n",
       "      <td>2</td>\n",
       "      <td>2</td>\n",
       "      <td>2</td>\n",
       "    </tr>\n",
       "    <tr>\n",
       "      <th>306</th>\n",
       "      <td>Female</td>\n",
       "      <td>81</td>\n",
       "      <td>1</td>\n",
       "      <td>2</td>\n",
       "      <td>2</td>\n",
       "      <td>2</td>\n",
       "      <td>2</td>\n",
       "      <td>2</td>\n",
       "      <td>2</td>\n",
       "      <td>2</td>\n",
       "      <td>1</td>\n",
       "      <td>2</td>\n",
       "      <td>2</td>\n",
       "      <td>2</td>\n",
       "      <td>2</td>\n",
       "      <td>2</td>\n",
       "    </tr>\n",
       "    <tr>\n",
       "      <th>307</th>\n",
       "      <td>Female</td>\n",
       "      <td>81</td>\n",
       "      <td>1</td>\n",
       "      <td>1</td>\n",
       "      <td>1</td>\n",
       "      <td>2</td>\n",
       "      <td>2</td>\n",
       "      <td>1</td>\n",
       "      <td>2</td>\n",
       "      <td>1</td>\n",
       "      <td>2</td>\n",
       "      <td>2</td>\n",
       "      <td>2</td>\n",
       "      <td>1</td>\n",
       "      <td>1</td>\n",
       "      <td>2</td>\n",
       "    </tr>\n",
       "    <tr>\n",
       "      <th>308</th>\n",
       "      <td>Female</td>\n",
       "      <td>87</td>\n",
       "      <td>1</td>\n",
       "      <td>1</td>\n",
       "      <td>1</td>\n",
       "      <td>1</td>\n",
       "      <td>2</td>\n",
       "      <td>2</td>\n",
       "      <td>1</td>\n",
       "      <td>1</td>\n",
       "      <td>1</td>\n",
       "      <td>1</td>\n",
       "      <td>2</td>\n",
       "      <td>1</td>\n",
       "      <td>1</td>\n",
       "      <td>1</td>\n",
       "    </tr>\n",
       "  </tbody>\n",
       "</table>\n",
       "<p>309 rows × 16 columns</p>\n",
       "</div>"
      ],
      "text/plain": [
       "     GENDER  AGE  SMOKING  YELLOW_FINGERS  ANXIETY  PEER_PRESSURE  \\\n",
       "0    Female   21        2               1        1              1   \n",
       "1    Female   38        1               2        1              1   \n",
       "2      Male   39        2               1        1              2   \n",
       "3    Female   44        2               2        2              2   \n",
       "4      Male   44        1               2        1              2   \n",
       "..      ...  ...      ...             ...      ...            ...   \n",
       "304    Male   78        1               2        1              2   \n",
       "305    Male   79        2               1        1              1   \n",
       "306  Female   81        1               2        2              2   \n",
       "307  Female   81        1               1        1              2   \n",
       "308  Female   87        1               1        1              1   \n",
       "\n",
       "     CHRONIC DISEASE  FATIGUE   ALLERGY   WHEEZING  ALCOHOL CONSUMING  \\\n",
       "0                  2         2         2         1                  1   \n",
       "1                  2         2         2         2                  1   \n",
       "2                  1         2         2         2                  2   \n",
       "3                  2         2         1         1                  1   \n",
       "4                  2         2         1         2                  1   \n",
       "..               ...       ...       ...       ...                ...   \n",
       "304                2         2         1         2                  1   \n",
       "305                2         2         2         1                  2   \n",
       "306                2         2         2         2                  1   \n",
       "307                2         1         2         1                  2   \n",
       "308                2         2         1         1                  1   \n",
       "\n",
       "     COUGHING  SHORTNESS OF BREATH  SWALLOWING DIFFICULTY  CHEST PAIN  \\\n",
       "0           1                    2                      1           1   \n",
       "1           2                    2                      1           2   \n",
       "2           1                    2                      1           2   \n",
       "3           1                    2                      2           1   \n",
       "4           1                    2                      2           2   \n",
       "..        ...                  ...                    ...         ...   \n",
       "304         1                    2                      2           2   \n",
       "305         2                    2                      2           2   \n",
       "306         2                    2                      2           2   \n",
       "307         2                    2                      1           1   \n",
       "308         1                    2                      1           1   \n",
       "\n",
       "     LUNG_CANCER  \n",
       "0              1  \n",
       "1              2  \n",
       "2              2  \n",
       "3              2  \n",
       "4              2  \n",
       "..           ...  \n",
       "304            2  \n",
       "305            2  \n",
       "306            2  \n",
       "307            2  \n",
       "308            1  \n",
       "\n",
       "[309 rows x 16 columns]"
      ]
     },
     "execution_count": 79,
     "metadata": {},
     "output_type": "execute_result"
    }
   ],
   "source": [
    "df"
   ]
  },
  {
   "cell_type": "code",
   "execution_count": 80,
   "id": "a8a9ef31",
   "metadata": {},
   "outputs": [
    {
     "name": "stdout",
     "output_type": "stream",
     "text": [
      "<class 'pandas.core.frame.DataFrame'>\n",
      "RangeIndex: 309 entries, 0 to 308\n",
      "Data columns (total 16 columns):\n",
      " #   Column                 Non-Null Count  Dtype \n",
      "---  ------                 --------------  ----- \n",
      " 0   GENDER                 309 non-null    object\n",
      " 1   AGE                    309 non-null    int64 \n",
      " 2   SMOKING                309 non-null    int64 \n",
      " 3   YELLOW_FINGERS         309 non-null    int64 \n",
      " 4   ANXIETY                309 non-null    int64 \n",
      " 5   PEER_PRESSURE          309 non-null    int64 \n",
      " 6   CHRONIC DISEASE        309 non-null    int64 \n",
      " 7   FATIGUE                309 non-null    int64 \n",
      " 8   ALLERGY                309 non-null    int64 \n",
      " 9   WHEEZING               309 non-null    int64 \n",
      " 10  ALCOHOL CONSUMING      309 non-null    int64 \n",
      " 11  COUGHING               309 non-null    int64 \n",
      " 12  SHORTNESS OF BREATH    309 non-null    int64 \n",
      " 13  SWALLOWING DIFFICULTY  309 non-null    int64 \n",
      " 14  CHEST PAIN             309 non-null    int64 \n",
      " 15  LUNG_CANCER            309 non-null    int64 \n",
      "dtypes: int64(15), object(1)\n",
      "memory usage: 38.8+ KB\n"
     ]
    }
   ],
   "source": [
    "df.info()"
   ]
  },
  {
   "cell_type": "code",
   "execution_count": 81,
   "id": "8a028db6",
   "metadata": {},
   "outputs": [
    {
     "data": {
      "text/plain": [
       "4944"
      ]
     },
     "execution_count": 81,
     "metadata": {},
     "output_type": "execute_result"
    }
   ],
   "source": [
    "df.size"
   ]
  },
  {
   "cell_type": "code",
   "execution_count": 152,
   "id": "7bd8a578",
   "metadata": {},
   "outputs": [
    {
     "data": {
      "text/plain": [
       "<AxesSubplot:>"
      ]
     },
     "execution_count": 152,
     "metadata": {},
     "output_type": "execute_result"
    },
    {
     "data": {
      "image/png": "[encoded data removed]",
      "text/plain": [
       "<Figure size 1440x720 with 2 Axes>"
      ]
     },
     "metadata": {
      "needs_background": "light"
     },
     "output_type": "display_data"
    }
   ],
   "source": [
    "plt.figure(figsize=(20,10))\n",
    "sns.heatmap(df.corr(), cmap='Greens', annot=True, fmt='.1g')"
   ]
  },
  {
   "cell_type": "code",
   "execution_count": 83,
   "id": "7563fbdb",
   "metadata": {},
   "outputs": [],
   "source": [
    "lung_cancer = df[['GENDER', 'LUNG_CANCER']]\n",
    "lung_cancer = lung_cancer.sort_values(by=['LUNG_CANCER'])\n",
    "lung_cancer = lung_cancer.reset_index(drop=True)"
   ]
  },
  {
   "cell_type": "code",
   "execution_count": 84,
   "id": "ca206469",
   "metadata": {},
   "outputs": [
    {
     "data": {
      "text/html": [
       "<div>\n",
       "<style scoped>\n",
       "    .dataframe tbody tr th:only-of-type {\n",
       "        vertical-align: middle;\n",
       "    }\n",
       "\n",
       "    .dataframe tbody tr th {\n",
       "        vertical-align: top;\n",
       "    }\n",
       "\n",
       "    .dataframe thead th {\n",
       "        text-align: right;\n",
       "    }\n",
       "</style>\n",
       "<table border=\"1\" class=\"dataframe\">\n",
       "  <thead>\n",
       "    <tr style=\"text-align: right;\">\n",
       "      <th></th>\n",
       "      <th>GENDER</th>\n",
       "      <th>LUNG_CANCER</th>\n",
       "    </tr>\n",
       "  </thead>\n",
       "  <tbody>\n",
       "    <tr>\n",
       "      <th>0</th>\n",
       "      <td>Female</td>\n",
       "      <td>1</td>\n",
       "    </tr>\n",
       "    <tr>\n",
       "      <th>1</th>\n",
       "      <td>Female</td>\n",
       "      <td>1</td>\n",
       "    </tr>\n",
       "    <tr>\n",
       "      <th>2</th>\n",
       "      <td>Female</td>\n",
       "      <td>1</td>\n",
       "    </tr>\n",
       "    <tr>\n",
       "      <th>3</th>\n",
       "      <td>Male</td>\n",
       "      <td>1</td>\n",
       "    </tr>\n",
       "    <tr>\n",
       "      <th>4</th>\n",
       "      <td>Male</td>\n",
       "      <td>1</td>\n",
       "    </tr>\n",
       "    <tr>\n",
       "      <th>...</th>\n",
       "      <td>...</td>\n",
       "      <td>...</td>\n",
       "    </tr>\n",
       "    <tr>\n",
       "      <th>304</th>\n",
       "      <td>Female</td>\n",
       "      <td>2</td>\n",
       "    </tr>\n",
       "    <tr>\n",
       "      <th>305</th>\n",
       "      <td>Female</td>\n",
       "      <td>2</td>\n",
       "    </tr>\n",
       "    <tr>\n",
       "      <th>306</th>\n",
       "      <td>Female</td>\n",
       "      <td>2</td>\n",
       "    </tr>\n",
       "    <tr>\n",
       "      <th>307</th>\n",
       "      <td>Female</td>\n",
       "      <td>2</td>\n",
       "    </tr>\n",
       "    <tr>\n",
       "      <th>308</th>\n",
       "      <td>Male</td>\n",
       "      <td>2</td>\n",
       "    </tr>\n",
       "  </tbody>\n",
       "</table>\n",
       "<p>309 rows × 2 columns</p>\n",
       "</div>"
      ],
      "text/plain": [
       "     GENDER  LUNG_CANCER\n",
       "0    Female            1\n",
       "1    Female            1\n",
       "2    Female            1\n",
       "3      Male            1\n",
       "4      Male            1\n",
       "..      ...          ...\n",
       "304  Female            2\n",
       "305  Female            2\n",
       "306  Female            2\n",
       "307  Female            2\n",
       "308    Male            2\n",
       "\n",
       "[309 rows x 2 columns]"
      ]
     },
     "execution_count": 84,
     "metadata": {},
     "output_type": "execute_result"
    }
   ],
   "source": [
    "lung_cancer"
   ]
  },
  {
   "cell_type": "code",
   "execution_count": 85,
   "id": "f38c5412",
   "metadata": {},
   "outputs": [
    {
     "data": {
      "text/plain": [
       "GENDER  LUNG_CANCER\n",
       "Male    2              145\n",
       "Female  2              125\n",
       "        1               22\n",
       "Male    1               17\n",
       "dtype: int64"
      ]
     },
     "execution_count": 85,
     "metadata": {},
     "output_type": "execute_result"
    }
   ],
   "source": [
    "lung_cancer.value_counts()"
   ]
  },
  {
   "cell_type": "markdown",
   "id": "817b8cfd",
   "metadata": {},
   "source": [
    "Определяем данные, которые будут использоваться для анализа и в качестве целевых значений"
   ]
  },
  {
   "cell_type": "code",
   "execution_count": 86,
   "id": "92a812c8",
   "metadata": {},
   "outputs": [],
   "source": [
    "target = pd.DataFrame(data=df.LUNG_CANCER)\n",
    "feature_names = df.iloc[:, 1:15]\n",
    "x = feature_names\n",
    "y = target"
   ]
  },
  {
   "cell_type": "markdown",
   "id": "45c17bf5",
   "metadata": {},
   "source": [
    "Разбиваем нашу выборку на обучающую и тестовую"
   ]
  },
  {
   "cell_type": "code",
   "execution_count": 87,
   "id": "e345cf71",
   "metadata": {},
   "outputs": [],
   "source": [
    "x_train, x_test, y_train, y_test = train_test_split(x, y, random_state=0, test_size=0.2)"
   ]
  },
  {
   "cell_type": "markdown",
   "id": "d0fdc1fc",
   "metadata": {},
   "source": [
    "Логистическая регрессия"
   ]
  },
  {
   "cell_type": "code",
   "execution_count": 88,
   "id": "6b592f0c",
   "metadata": {},
   "outputs": [],
   "source": [
    "model = LogisticRegression(solver='lbfgs', max_iter=200)\n",
    "model.fit(x_train, y_train.values.ravel())\n",
    "pred_train = model.predict(x_train)\n",
    "pred_test = model.predict(x_test)"
   ]
  },
  {
   "cell_type": "markdown",
   "id": "4bd6c0c1",
   "metadata": {},
   "source": [
    "Коэффициент детерминации для обучающей выборки"
   ]
  },
  {
   "cell_type": "code",
   "execution_count": 91,
   "id": "cc03fa1c",
   "metadata": {},
   "outputs": [
    {
     "data": {
      "text/plain": [
       "0.3346801346801347"
      ]
     },
     "execution_count": 91,
     "metadata": {},
     "output_type": "execute_result"
    }
   ],
   "source": [
    "r2_score(y_train, pred_train)"
   ]
  },
  {
   "cell_type": "markdown",
   "id": "9ed69e1d",
   "metadata": {},
   "source": [
    "Коэффициент детерминации для тестовой выборки"
   ]
  },
  {
   "cell_type": "code",
   "execution_count": 93,
   "id": "6e6ee583",
   "metadata": {},
   "outputs": [
    {
     "data": {
      "text/plain": [
       "0.27666666666666684"
      ]
     },
     "execution_count": 93,
     "metadata": {},
     "output_type": "execute_result"
    }
   ],
   "source": [
    "r2_score(y_test, pred_test)"
   ]
  },
  {
   "cell_type": "markdown",
   "id": "1cb0d04b",
   "metadata": {},
   "source": [
    "Посмотрим на значение метрики accuracy"
   ]
  },
  {
   "cell_type": "code",
   "execution_count": 94,
   "id": "e703b50a",
   "metadata": {},
   "outputs": [
    {
     "data": {
      "text/plain": [
       "0.9352226720647774"
      ]
     },
     "execution_count": 94,
     "metadata": {},
     "output_type": "execute_result"
    }
   ],
   "source": [
    "accuracy_score(y_train, pred_train)"
   ]
  },
  {
   "cell_type": "code",
   "execution_count": 96,
   "id": "263d51b4",
   "metadata": {},
   "outputs": [
    {
     "data": {
      "text/plain": [
       "0.8870967741935484"
      ]
     },
     "execution_count": 96,
     "metadata": {},
     "output_type": "execute_result"
    }
   ],
   "source": [
    "accuracy_score(y_test, pred_test)"
   ]
  },
  {
   "cell_type": "code",
   "execution_count": null,
   "id": "3c1f4f09",
   "metadata": {},
   "outputs": [],
   "source": [
    "Посмотрим на значение MSE"
   ]
  },
  {
   "cell_type": "code",
   "execution_count": 95,
   "id": "b3713bb6",
   "metadata": {},
   "outputs": [
    {
     "data": {
      "text/plain": [
       "0.03643724696356275"
      ]
     },
     "execution_count": 95,
     "metadata": {},
     "output_type": "execute_result"
    }
   ],
   "source": [
    "mean_squared_error(y_train, pred_train)"
   ]
  },
  {
   "cell_type": "code",
   "execution_count": 97,
   "id": "9c9af3f2",
   "metadata": {},
   "outputs": [
    {
     "data": {
      "text/plain": [
       "0.11290322580645161"
      ]
     },
     "execution_count": 97,
     "metadata": {},
     "output_type": "execute_result"
    }
   ],
   "source": [
    "mean_squared_error(y_test, pred_test)"
   ]
  },
  {
   "cell_type": "markdown",
   "id": "bad12fcb",
   "metadata": {},
   "source": [
    "Метрики accuracy и MSE получили довольно удовлетворительные значения, но метрика accurace малоинформативно в случае с массивом данных, где есть дисбаланс классов. Значение коэффициентов детерминации нам это доказывают. Попробуем стандартизировать данные и повторим рассчеты."
   ]
  },
  {
   "cell_type": "code",
   "execution_count": 54,
   "id": "5542d37d",
   "metadata": {},
   "outputs": [
    {
     "data": {
      "text/plain": [
       "StandardScaler()"
      ]
     },
     "execution_count": 54,
     "metadata": {},
     "output_type": "execute_result"
    }
   ],
   "source": [
    "scaler = StandardScaler()\n",
    "scaler.fit(x_train)"
   ]
  },
  {
   "cell_type": "markdown",
   "id": "75e2b388",
   "metadata": {},
   "source": [
    "Приведем полученные данные в более информативную форму"
   ]
  },
  {
   "cell_type": "code",
   "execution_count": 46,
   "id": "91495603",
   "metadata": {},
   "outputs": [
    {
     "data": {
      "text/html": [
       "<div>\n",
       "<style scoped>\n",
       "    .dataframe tbody tr th:only-of-type {\n",
       "        vertical-align: middle;\n",
       "    }\n",
       "\n",
       "    .dataframe tbody tr th {\n",
       "        vertical-align: top;\n",
       "    }\n",
       "\n",
       "    .dataframe thead th {\n",
       "        text-align: right;\n",
       "    }\n",
       "</style>\n",
       "<table border=\"1\" class=\"dataframe\">\n",
       "  <thead>\n",
       "    <tr style=\"text-align: right;\">\n",
       "      <th></th>\n",
       "      <th>AGE</th>\n",
       "      <th>SMOKING</th>\n",
       "      <th>YELLOW_FINGERS</th>\n",
       "      <th>ANXIETY</th>\n",
       "      <th>PEER_PRESSURE</th>\n",
       "      <th>CHRONIC DISEASE</th>\n",
       "      <th>FATIGUE</th>\n",
       "      <th>ALLERGY</th>\n",
       "      <th>WHEEZING</th>\n",
       "      <th>ALCOHOL CONSUMING</th>\n",
       "      <th>COUGHING</th>\n",
       "      <th>SHORTNESS OF BREATH</th>\n",
       "      <th>SWALLOWING DIFFICULTY</th>\n",
       "      <th>CHEST PAIN</th>\n",
       "    </tr>\n",
       "  </thead>\n",
       "  <tbody>\n",
       "    <tr>\n",
       "      <th>0</th>\n",
       "      <td>-1.998139</td>\n",
       "      <td>0.767948</td>\n",
       "      <td>0.968246</td>\n",
       "      <td>-1.032796</td>\n",
       "      <td>1.216553</td>\n",
       "      <td>1.066739</td>\n",
       "      <td>0.74162</td>\n",
       "      <td>1.032796</td>\n",
       "      <td>0.968246</td>\n",
       "      <td>-1.032796</td>\n",
       "      <td>1.0</td>\n",
       "      <td>0.767948</td>\n",
       "      <td>-0.907485</td>\n",
       "      <td>-0.87831</td>\n",
       "    </tr>\n",
       "    <tr>\n",
       "      <th>1</th>\n",
       "      <td>-0.932465</td>\n",
       "      <td>0.767948</td>\n",
       "      <td>-1.032796</td>\n",
       "      <td>-1.032796</td>\n",
       "      <td>-0.821995</td>\n",
       "      <td>-0.937437</td>\n",
       "      <td>0.74162</td>\n",
       "      <td>-0.968246</td>\n",
       "      <td>-1.032796</td>\n",
       "      <td>-1.032796</td>\n",
       "      <td>-1.0</td>\n",
       "      <td>-1.302172</td>\n",
       "      <td>-0.907485</td>\n",
       "      <td>-0.87831</td>\n",
       "    </tr>\n",
       "    <tr>\n",
       "      <th>2</th>\n",
       "      <td>-0.399628</td>\n",
       "      <td>-1.302172</td>\n",
       "      <td>0.968246</td>\n",
       "      <td>0.968246</td>\n",
       "      <td>1.216553</td>\n",
       "      <td>1.066739</td>\n",
       "      <td>-1.34840</td>\n",
       "      <td>1.032796</td>\n",
       "      <td>0.968246</td>\n",
       "      <td>0.968246</td>\n",
       "      <td>1.0</td>\n",
       "      <td>0.767948</td>\n",
       "      <td>1.101946</td>\n",
       "      <td>-0.87831</td>\n",
       "    </tr>\n",
       "    <tr>\n",
       "      <th>3</th>\n",
       "      <td>-0.399628</td>\n",
       "      <td>0.767948</td>\n",
       "      <td>-1.032796</td>\n",
       "      <td>-1.032796</td>\n",
       "      <td>1.216553</td>\n",
       "      <td>1.066739</td>\n",
       "      <td>0.74162</td>\n",
       "      <td>1.032796</td>\n",
       "      <td>0.968246</td>\n",
       "      <td>0.968246</td>\n",
       "      <td>1.0</td>\n",
       "      <td>0.767948</td>\n",
       "      <td>1.101946</td>\n",
       "      <td>1.13855</td>\n",
       "    </tr>\n",
       "    <tr>\n",
       "      <th>4</th>\n",
       "      <td>0.399628</td>\n",
       "      <td>0.767948</td>\n",
       "      <td>0.968246</td>\n",
       "      <td>0.968246</td>\n",
       "      <td>1.216553</td>\n",
       "      <td>1.066739</td>\n",
       "      <td>-1.34840</td>\n",
       "      <td>-0.968246</td>\n",
       "      <td>-1.032796</td>\n",
       "      <td>-1.032796</td>\n",
       "      <td>-1.0</td>\n",
       "      <td>-1.302172</td>\n",
       "      <td>-0.907485</td>\n",
       "      <td>-0.87831</td>\n",
       "    </tr>\n",
       "    <tr>\n",
       "      <th>...</th>\n",
       "      <td>...</td>\n",
       "      <td>...</td>\n",
       "      <td>...</td>\n",
       "      <td>...</td>\n",
       "      <td>...</td>\n",
       "      <td>...</td>\n",
       "      <td>...</td>\n",
       "      <td>...</td>\n",
       "      <td>...</td>\n",
       "      <td>...</td>\n",
       "      <td>...</td>\n",
       "      <td>...</td>\n",
       "      <td>...</td>\n",
       "      <td>...</td>\n",
       "    </tr>\n",
       "    <tr>\n",
       "      <th>242</th>\n",
       "      <td>1.065674</td>\n",
       "      <td>-1.302172</td>\n",
       "      <td>-1.032796</td>\n",
       "      <td>-1.032796</td>\n",
       "      <td>1.216553</td>\n",
       "      <td>1.066739</td>\n",
       "      <td>-1.34840</td>\n",
       "      <td>1.032796</td>\n",
       "      <td>-1.032796</td>\n",
       "      <td>0.968246</td>\n",
       "      <td>1.0</td>\n",
       "      <td>0.767948</td>\n",
       "      <td>-0.907485</td>\n",
       "      <td>-0.87831</td>\n",
       "    </tr>\n",
       "    <tr>\n",
       "      <th>243</th>\n",
       "      <td>0.266419</td>\n",
       "      <td>-1.302172</td>\n",
       "      <td>0.968246</td>\n",
       "      <td>0.968246</td>\n",
       "      <td>1.216553</td>\n",
       "      <td>-0.937437</td>\n",
       "      <td>-1.34840</td>\n",
       "      <td>1.032796</td>\n",
       "      <td>-1.032796</td>\n",
       "      <td>0.968246</td>\n",
       "      <td>-1.0</td>\n",
       "      <td>-1.302172</td>\n",
       "      <td>1.101946</td>\n",
       "      <td>1.13855</td>\n",
       "    </tr>\n",
       "    <tr>\n",
       "      <th>244</th>\n",
       "      <td>-0.266419</td>\n",
       "      <td>0.767948</td>\n",
       "      <td>-1.032796</td>\n",
       "      <td>-1.032796</td>\n",
       "      <td>-0.821995</td>\n",
       "      <td>-0.937437</td>\n",
       "      <td>0.74162</td>\n",
       "      <td>1.032796</td>\n",
       "      <td>0.968246</td>\n",
       "      <td>0.968246</td>\n",
       "      <td>1.0</td>\n",
       "      <td>0.767948</td>\n",
       "      <td>-0.907485</td>\n",
       "      <td>1.13855</td>\n",
       "    </tr>\n",
       "    <tr>\n",
       "      <th>245</th>\n",
       "      <td>-0.932465</td>\n",
       "      <td>0.767948</td>\n",
       "      <td>-1.032796</td>\n",
       "      <td>-1.032796</td>\n",
       "      <td>1.216553</td>\n",
       "      <td>1.066739</td>\n",
       "      <td>0.74162</td>\n",
       "      <td>1.032796</td>\n",
       "      <td>0.968246</td>\n",
       "      <td>0.968246</td>\n",
       "      <td>-1.0</td>\n",
       "      <td>-1.302172</td>\n",
       "      <td>1.101946</td>\n",
       "      <td>1.13855</td>\n",
       "    </tr>\n",
       "    <tr>\n",
       "      <th>246</th>\n",
       "      <td>0.133209</td>\n",
       "      <td>-1.302172</td>\n",
       "      <td>-1.032796</td>\n",
       "      <td>-1.032796</td>\n",
       "      <td>-0.821995</td>\n",
       "      <td>1.066739</td>\n",
       "      <td>0.74162</td>\n",
       "      <td>-0.968246</td>\n",
       "      <td>-1.032796</td>\n",
       "      <td>-1.032796</td>\n",
       "      <td>-1.0</td>\n",
       "      <td>0.767948</td>\n",
       "      <td>-0.907485</td>\n",
       "      <td>-0.87831</td>\n",
       "    </tr>\n",
       "  </tbody>\n",
       "</table>\n",
       "<p>247 rows × 14 columns</p>\n",
       "</div>"
      ],
      "text/plain": [
       "          AGE   SMOKING  YELLOW_FINGERS   ANXIETY  PEER_PRESSURE  \\\n",
       "0   -1.998139  0.767948        0.968246 -1.032796       1.216553   \n",
       "1   -0.932465  0.767948       -1.032796 -1.032796      -0.821995   \n",
       "2   -0.399628 -1.302172        0.968246  0.968246       1.216553   \n",
       "3   -0.399628  0.767948       -1.032796 -1.032796       1.216553   \n",
       "4    0.399628  0.767948        0.968246  0.968246       1.216553   \n",
       "..        ...       ...             ...       ...            ...   \n",
       "242  1.065674 -1.302172       -1.032796 -1.032796       1.216553   \n",
       "243  0.266419 -1.302172        0.968246  0.968246       1.216553   \n",
       "244 -0.266419  0.767948       -1.032796 -1.032796      -0.821995   \n",
       "245 -0.932465  0.767948       -1.032796 -1.032796       1.216553   \n",
       "246  0.133209 -1.302172       -1.032796 -1.032796      -0.821995   \n",
       "\n",
       "     CHRONIC DISEASE  FATIGUE   ALLERGY   WHEEZING  ALCOHOL CONSUMING  \\\n",
       "0           1.066739   0.74162  1.032796  0.968246          -1.032796   \n",
       "1          -0.937437   0.74162 -0.968246 -1.032796          -1.032796   \n",
       "2           1.066739  -1.34840  1.032796  0.968246           0.968246   \n",
       "3           1.066739   0.74162  1.032796  0.968246           0.968246   \n",
       "4           1.066739  -1.34840 -0.968246 -1.032796          -1.032796   \n",
       "..               ...       ...       ...       ...                ...   \n",
       "242         1.066739  -1.34840  1.032796 -1.032796           0.968246   \n",
       "243        -0.937437  -1.34840  1.032796 -1.032796           0.968246   \n",
       "244        -0.937437   0.74162  1.032796  0.968246           0.968246   \n",
       "245         1.066739   0.74162  1.032796  0.968246           0.968246   \n",
       "246         1.066739   0.74162 -0.968246 -1.032796          -1.032796   \n",
       "\n",
       "     COUGHING  SHORTNESS OF BREATH  SWALLOWING DIFFICULTY  CHEST PAIN  \n",
       "0         1.0             0.767948              -0.907485    -0.87831  \n",
       "1        -1.0            -1.302172              -0.907485    -0.87831  \n",
       "2         1.0             0.767948               1.101946    -0.87831  \n",
       "3         1.0             0.767948               1.101946     1.13855  \n",
       "4        -1.0            -1.302172              -0.907485    -0.87831  \n",
       "..        ...                  ...                    ...         ...  \n",
       "242       1.0             0.767948              -0.907485    -0.87831  \n",
       "243      -1.0            -1.302172               1.101946     1.13855  \n",
       "244       1.0             0.767948              -0.907485     1.13855  \n",
       "245      -1.0            -1.302172               1.101946     1.13855  \n",
       "246      -1.0             0.767948              -0.907485    -0.87831  \n",
       "\n",
       "[247 rows x 14 columns]"
      ]
     },
     "execution_count": 46,
     "metadata": {},
     "output_type": "execute_result"
    }
   ],
   "source": [
    "x_train_std = pd.DataFrame(scaler.transform(x_train), columns=x_train.columns)\n",
    "x_train_std"
   ]
  },
  {
   "cell_type": "markdown",
   "id": "f8f9ba8d",
   "metadata": {},
   "source": [
    "Посмотрим на средние значения(mean) и стандартное отклонения(std) "
   ]
  },
  {
   "cell_type": "code",
   "execution_count": 50,
   "id": "a6924795",
   "metadata": {},
   "outputs": [
    {
     "data": {
      "text/html": [
       "<div>\n",
       "<style scoped>\n",
       "    .dataframe tbody tr th:only-of-type {\n",
       "        vertical-align: middle;\n",
       "    }\n",
       "\n",
       "    .dataframe tbody tr th {\n",
       "        vertical-align: top;\n",
       "    }\n",
       "\n",
       "    .dataframe thead th {\n",
       "        text-align: right;\n",
       "    }\n",
       "</style>\n",
       "<table border=\"1\" class=\"dataframe\">\n",
       "  <thead>\n",
       "    <tr style=\"text-align: right;\">\n",
       "      <th></th>\n",
       "      <th>AGE</th>\n",
       "      <th>SMOKING</th>\n",
       "      <th>YELLOW_FINGERS</th>\n",
       "      <th>ANXIETY</th>\n",
       "      <th>PEER_PRESSURE</th>\n",
       "      <th>CHRONIC DISEASE</th>\n",
       "      <th>FATIGUE</th>\n",
       "      <th>ALLERGY</th>\n",
       "      <th>WHEEZING</th>\n",
       "      <th>ALCOHOL CONSUMING</th>\n",
       "      <th>COUGHING</th>\n",
       "      <th>SHORTNESS OF BREATH</th>\n",
       "      <th>SWALLOWING DIFFICULTY</th>\n",
       "      <th>CHEST PAIN</th>\n",
       "    </tr>\n",
       "  </thead>\n",
       "  <tbody>\n",
       "    <tr>\n",
       "      <th>count</th>\n",
       "      <td>247.000000</td>\n",
       "      <td>247.000000</td>\n",
       "      <td>247.000000</td>\n",
       "      <td>247.000000</td>\n",
       "      <td>247.000000</td>\n",
       "      <td>247.000000</td>\n",
       "      <td>247.000000</td>\n",
       "      <td>247.000000</td>\n",
       "      <td>247.000000</td>\n",
       "      <td>247.000000</td>\n",
       "      <td>247.000000</td>\n",
       "      <td>247.000000</td>\n",
       "      <td>247.000000</td>\n",
       "      <td>247.000000</td>\n",
       "    </tr>\n",
       "    <tr>\n",
       "      <th>mean</th>\n",
       "      <td>0.112176</td>\n",
       "      <td>-0.170730</td>\n",
       "      <td>0.133803</td>\n",
       "      <td>-0.044427</td>\n",
       "      <td>0.250925</td>\n",
       "      <td>0.093050</td>\n",
       "      <td>0.073152</td>\n",
       "      <td>0.182150</td>\n",
       "      <td>0.101398</td>\n",
       "      <td>0.101398</td>\n",
       "      <td>0.198381</td>\n",
       "      <td>0.030415</td>\n",
       "      <td>0.044351</td>\n",
       "      <td>0.305677</td>\n",
       "    </tr>\n",
       "    <tr>\n",
       "      <th>std</th>\n",
       "      <td>1.114924</td>\n",
       "      <td>1.032655</td>\n",
       "      <td>0.988644</td>\n",
       "      <td>1.002478</td>\n",
       "      <td>1.019928</td>\n",
       "      <td>1.003719</td>\n",
       "      <td>0.976793</td>\n",
       "      <td>0.991240</td>\n",
       "      <td>0.993564</td>\n",
       "      <td>0.993564</td>\n",
       "      <td>0.982115</td>\n",
       "      <td>0.993389</td>\n",
       "      <td>1.005360</td>\n",
       "      <td>0.995048</td>\n",
       "    </tr>\n",
       "    <tr>\n",
       "      <th>min</th>\n",
       "      <td>-5.461579</td>\n",
       "      <td>-1.302172</td>\n",
       "      <td>-1.032796</td>\n",
       "      <td>-1.032796</td>\n",
       "      <td>-0.821995</td>\n",
       "      <td>-0.937437</td>\n",
       "      <td>-1.348400</td>\n",
       "      <td>-0.968246</td>\n",
       "      <td>-1.032796</td>\n",
       "      <td>-1.032796</td>\n",
       "      <td>-1.000000</td>\n",
       "      <td>-1.302172</td>\n",
       "      <td>-0.907485</td>\n",
       "      <td>-0.878310</td>\n",
       "    </tr>\n",
       "    <tr>\n",
       "      <th>25%</th>\n",
       "      <td>-0.532837</td>\n",
       "      <td>-1.302172</td>\n",
       "      <td>-1.032796</td>\n",
       "      <td>-1.032796</td>\n",
       "      <td>-0.821995</td>\n",
       "      <td>-0.937437</td>\n",
       "      <td>-1.348400</td>\n",
       "      <td>-0.968246</td>\n",
       "      <td>-1.032796</td>\n",
       "      <td>-1.032796</td>\n",
       "      <td>-1.000000</td>\n",
       "      <td>-1.302172</td>\n",
       "      <td>-0.907485</td>\n",
       "      <td>-0.878310</td>\n",
       "    </tr>\n",
       "    <tr>\n",
       "      <th>50%</th>\n",
       "      <td>0.000000</td>\n",
       "      <td>0.767948</td>\n",
       "      <td>0.968246</td>\n",
       "      <td>-1.032796</td>\n",
       "      <td>1.216553</td>\n",
       "      <td>1.066739</td>\n",
       "      <td>0.741620</td>\n",
       "      <td>1.032796</td>\n",
       "      <td>0.968246</td>\n",
       "      <td>0.968246</td>\n",
       "      <td>1.000000</td>\n",
       "      <td>0.767948</td>\n",
       "      <td>-0.907485</td>\n",
       "      <td>1.138550</td>\n",
       "    </tr>\n",
       "    <tr>\n",
       "      <th>75%</th>\n",
       "      <td>0.932465</td>\n",
       "      <td>0.767948</td>\n",
       "      <td>0.968246</td>\n",
       "      <td>0.968246</td>\n",
       "      <td>1.216553</td>\n",
       "      <td>1.066739</td>\n",
       "      <td>0.741620</td>\n",
       "      <td>1.032796</td>\n",
       "      <td>0.968246</td>\n",
       "      <td>0.968246</td>\n",
       "      <td>1.000000</td>\n",
       "      <td>0.767948</td>\n",
       "      <td>1.101946</td>\n",
       "      <td>1.138550</td>\n",
       "    </tr>\n",
       "    <tr>\n",
       "      <th>max</th>\n",
       "      <td>3.330231</td>\n",
       "      <td>0.767948</td>\n",
       "      <td>0.968246</td>\n",
       "      <td>0.968246</td>\n",
       "      <td>1.216553</td>\n",
       "      <td>1.066739</td>\n",
       "      <td>0.741620</td>\n",
       "      <td>1.032796</td>\n",
       "      <td>0.968246</td>\n",
       "      <td>0.968246</td>\n",
       "      <td>1.000000</td>\n",
       "      <td>0.767948</td>\n",
       "      <td>1.101946</td>\n",
       "      <td>1.138550</td>\n",
       "    </tr>\n",
       "  </tbody>\n",
       "</table>\n",
       "</div>"
      ],
      "text/plain": [
       "              AGE     SMOKING  YELLOW_FINGERS     ANXIETY  PEER_PRESSURE  \\\n",
       "count  247.000000  247.000000      247.000000  247.000000     247.000000   \n",
       "mean     0.112176   -0.170730        0.133803   -0.044427       0.250925   \n",
       "std      1.114924    1.032655        0.988644    1.002478       1.019928   \n",
       "min     -5.461579   -1.302172       -1.032796   -1.032796      -0.821995   \n",
       "25%     -0.532837   -1.302172       -1.032796   -1.032796      -0.821995   \n",
       "50%      0.000000    0.767948        0.968246   -1.032796       1.216553   \n",
       "75%      0.932465    0.767948        0.968246    0.968246       1.216553   \n",
       "max      3.330231    0.767948        0.968246    0.968246       1.216553   \n",
       "\n",
       "       CHRONIC DISEASE    FATIGUE     ALLERGY     WHEEZING  ALCOHOL CONSUMING  \\\n",
       "count       247.000000  247.000000  247.000000  247.000000         247.000000   \n",
       "mean          0.093050    0.073152    0.182150    0.101398           0.101398   \n",
       "std           1.003719    0.976793    0.991240    0.993564           0.993564   \n",
       "min          -0.937437   -1.348400   -0.968246   -1.032796          -1.032796   \n",
       "25%          -0.937437   -1.348400   -0.968246   -1.032796          -1.032796   \n",
       "50%           1.066739    0.741620    1.032796    0.968246           0.968246   \n",
       "75%           1.066739    0.741620    1.032796    0.968246           0.968246   \n",
       "max           1.066739    0.741620    1.032796    0.968246           0.968246   \n",
       "\n",
       "         COUGHING  SHORTNESS OF BREATH  SWALLOWING DIFFICULTY  CHEST PAIN  \n",
       "count  247.000000           247.000000             247.000000  247.000000  \n",
       "mean     0.198381             0.030415               0.044351    0.305677  \n",
       "std      0.982115             0.993389               1.005360    0.995048  \n",
       "min     -1.000000            -1.302172              -0.907485   -0.878310  \n",
       "25%     -1.000000            -1.302172              -0.907485   -0.878310  \n",
       "50%      1.000000             0.767948              -0.907485    1.138550  \n",
       "75%      1.000000             0.767948               1.101946    1.138550  \n",
       "max      1.000000             0.767948               1.101946    1.138550  "
      ]
     },
     "execution_count": 50,
     "metadata": {},
     "output_type": "execute_result"
    }
   ],
   "source": [
    "x_train_std.describe()"
   ]
  },
  {
   "cell_type": "markdown",
   "id": "2e486174",
   "metadata": {},
   "source": [
    "Наши значения mean стали очень близки к нулю, а std в районе единицы"
   ]
  },
  {
   "cell_type": "markdown",
   "id": "1afe226a",
   "metadata": {},
   "source": [
    "Далее стандартизируем тестовые данные"
   ]
  },
  {
   "cell_type": "code",
   "execution_count": 55,
   "id": "b6255cb8",
   "metadata": {},
   "outputs": [
    {
     "data": {
      "text/html": [
       "<div>\n",
       "<style scoped>\n",
       "    .dataframe tbody tr th:only-of-type {\n",
       "        vertical-align: middle;\n",
       "    }\n",
       "\n",
       "    .dataframe tbody tr th {\n",
       "        vertical-align: top;\n",
       "    }\n",
       "\n",
       "    .dataframe thead th {\n",
       "        text-align: right;\n",
       "    }\n",
       "</style>\n",
       "<table border=\"1\" class=\"dataframe\">\n",
       "  <thead>\n",
       "    <tr style=\"text-align: right;\">\n",
       "      <th></th>\n",
       "      <th>AGE</th>\n",
       "      <th>SMOKING</th>\n",
       "      <th>YELLOW_FINGERS</th>\n",
       "      <th>ANXIETY</th>\n",
       "      <th>PEER_PRESSURE</th>\n",
       "      <th>CHRONIC DISEASE</th>\n",
       "      <th>FATIGUE</th>\n",
       "      <th>ALLERGY</th>\n",
       "      <th>WHEEZING</th>\n",
       "      <th>ALCOHOL CONSUMING</th>\n",
       "      <th>COUGHING</th>\n",
       "      <th>SHORTNESS OF BREATH</th>\n",
       "      <th>SWALLOWING DIFFICULTY</th>\n",
       "      <th>CHEST PAIN</th>\n",
       "    </tr>\n",
       "  </thead>\n",
       "  <tbody>\n",
       "    <tr>\n",
       "      <th>count</th>\n",
       "      <td>62.000000</td>\n",
       "      <td>62.000000</td>\n",
       "      <td>62.000000</td>\n",
       "      <td>62.000000</td>\n",
       "      <td>62.000000</td>\n",
       "      <td>62.000000</td>\n",
       "      <td>62.000000</td>\n",
       "      <td>62.000000</td>\n",
       "      <td>62.000000</td>\n",
       "      <td>62.000000</td>\n",
       "      <td>62.000000</td>\n",
       "      <td>62.000000</td>\n",
       "      <td>62.000000</td>\n",
       "      <td>62.000000</td>\n",
       "    </tr>\n",
       "    <tr>\n",
       "      <th>mean</th>\n",
       "      <td>-0.100818</td>\n",
       "      <td>0.165667</td>\n",
       "      <td>-0.135615</td>\n",
       "      <td>0.044407</td>\n",
       "      <td>-0.246522</td>\n",
       "      <td>-0.092894</td>\n",
       "      <td>-0.075042</td>\n",
       "      <td>-0.184133</td>\n",
       "      <td>-0.102262</td>\n",
       "      <td>-0.102262</td>\n",
       "      <td>-0.202403</td>\n",
       "      <td>-0.030680</td>\n",
       "      <td>-0.044204</td>\n",
       "      <td>-0.307822</td>\n",
       "    </tr>\n",
       "    <tr>\n",
       "      <th>std</th>\n",
       "      <td>0.906080</td>\n",
       "      <td>0.978265</td>\n",
       "      <td>1.021814</td>\n",
       "      <td>1.007713</td>\n",
       "      <td>0.990473</td>\n",
       "      <td>1.006467</td>\n",
       "      <td>1.034211</td>\n",
       "      <td>1.019138</td>\n",
       "      <td>1.016754</td>\n",
       "      <td>1.016754</td>\n",
       "      <td>1.028607</td>\n",
       "      <td>1.016933</td>\n",
       "      <td>1.004824</td>\n",
       "      <td>1.015238</td>\n",
       "    </tr>\n",
       "    <tr>\n",
       "      <th>min</th>\n",
       "      <td>-2.016352</td>\n",
       "      <td>-1.097888</td>\n",
       "      <td>-1.182395</td>\n",
       "      <td>-0.987927</td>\n",
       "      <td>-1.054093</td>\n",
       "      <td>-1.028753</td>\n",
       "      <td>-1.458281</td>\n",
       "      <td>-1.162919</td>\n",
       "      <td>-1.143858</td>\n",
       "      <td>-1.143858</td>\n",
       "      <td>-1.222681</td>\n",
       "      <td>-1.344179</td>\n",
       "      <td>-0.948683</td>\n",
       "      <td>-1.192296</td>\n",
       "    </tr>\n",
       "    <tr>\n",
       "      <th>25%</th>\n",
       "      <td>-0.819143</td>\n",
       "      <td>-1.097888</td>\n",
       "      <td>-1.182395</td>\n",
       "      <td>-0.987927</td>\n",
       "      <td>-1.054093</td>\n",
       "      <td>-1.028753</td>\n",
       "      <td>-1.458281</td>\n",
       "      <td>-1.162919</td>\n",
       "      <td>-1.143858</td>\n",
       "      <td>-1.143858</td>\n",
       "      <td>-1.222681</td>\n",
       "      <td>-1.344179</td>\n",
       "      <td>-0.948683</td>\n",
       "      <td>-1.192296</td>\n",
       "    </tr>\n",
       "    <tr>\n",
       "      <th>50%</th>\n",
       "      <td>-0.100818</td>\n",
       "      <td>0.910840</td>\n",
       "      <td>0.845741</td>\n",
       "      <td>1.012220</td>\n",
       "      <td>-1.054093</td>\n",
       "      <td>-1.028753</td>\n",
       "      <td>0.685739</td>\n",
       "      <td>-1.162919</td>\n",
       "      <td>0.874234</td>\n",
       "      <td>0.874234</td>\n",
       "      <td>-0.202403</td>\n",
       "      <td>0.743948</td>\n",
       "      <td>-0.948683</td>\n",
       "      <td>-1.192296</td>\n",
       "    </tr>\n",
       "    <tr>\n",
       "      <th>75%</th>\n",
       "      <td>0.587578</td>\n",
       "      <td>0.910840</td>\n",
       "      <td>0.845741</td>\n",
       "      <td>1.012220</td>\n",
       "      <td>0.948683</td>\n",
       "      <td>0.972050</td>\n",
       "      <td>0.685739</td>\n",
       "      <td>0.859905</td>\n",
       "      <td>0.874234</td>\n",
       "      <td>0.874234</td>\n",
       "      <td>0.817875</td>\n",
       "      <td>0.743948</td>\n",
       "      <td>1.054093</td>\n",
       "      <td>0.838718</td>\n",
       "    </tr>\n",
       "    <tr>\n",
       "      <th>max</th>\n",
       "      <td>1.814717</td>\n",
       "      <td>0.910840</td>\n",
       "      <td>0.845741</td>\n",
       "      <td>1.012220</td>\n",
       "      <td>0.948683</td>\n",
       "      <td>0.972050</td>\n",
       "      <td>0.685739</td>\n",
       "      <td>0.859905</td>\n",
       "      <td>0.874234</td>\n",
       "      <td>0.874234</td>\n",
       "      <td>0.817875</td>\n",
       "      <td>0.743948</td>\n",
       "      <td>1.054093</td>\n",
       "      <td>0.838718</td>\n",
       "    </tr>\n",
       "  </tbody>\n",
       "</table>\n",
       "</div>"
      ],
      "text/plain": [
       "             AGE    SMOKING  YELLOW_FINGERS    ANXIETY  PEER_PRESSURE  \\\n",
       "count  62.000000  62.000000       62.000000  62.000000      62.000000   \n",
       "mean   -0.100818   0.165667       -0.135615   0.044407      -0.246522   \n",
       "std     0.906080   0.978265        1.021814   1.007713       0.990473   \n",
       "min    -2.016352  -1.097888       -1.182395  -0.987927      -1.054093   \n",
       "25%    -0.819143  -1.097888       -1.182395  -0.987927      -1.054093   \n",
       "50%    -0.100818   0.910840        0.845741   1.012220      -1.054093   \n",
       "75%     0.587578   0.910840        0.845741   1.012220       0.948683   \n",
       "max     1.814717   0.910840        0.845741   1.012220       0.948683   \n",
       "\n",
       "       CHRONIC DISEASE   FATIGUE    ALLERGY    WHEEZING  ALCOHOL CONSUMING  \\\n",
       "count        62.000000  62.000000  62.000000  62.000000          62.000000   \n",
       "mean         -0.092894  -0.075042  -0.184133  -0.102262          -0.102262   \n",
       "std           1.006467   1.034211   1.019138   1.016754           1.016754   \n",
       "min          -1.028753  -1.458281  -1.162919  -1.143858          -1.143858   \n",
       "25%          -1.028753  -1.458281  -1.162919  -1.143858          -1.143858   \n",
       "50%          -1.028753   0.685739  -1.162919   0.874234           0.874234   \n",
       "75%           0.972050   0.685739   0.859905   0.874234           0.874234   \n",
       "max           0.972050   0.685739   0.859905   0.874234           0.874234   \n",
       "\n",
       "        COUGHING  SHORTNESS OF BREATH  SWALLOWING DIFFICULTY  CHEST PAIN  \n",
       "count  62.000000            62.000000              62.000000   62.000000  \n",
       "mean   -0.202403            -0.030680              -0.044204   -0.307822  \n",
       "std     1.028607             1.016933               1.004824    1.015238  \n",
       "min    -1.222681            -1.344179              -0.948683   -1.192296  \n",
       "25%    -1.222681            -1.344179              -0.948683   -1.192296  \n",
       "50%    -0.202403             0.743948              -0.948683   -1.192296  \n",
       "75%     0.817875             0.743948               1.054093    0.838718  \n",
       "max     0.817875             0.743948               1.054093    0.838718  "
      ]
     },
     "execution_count": 55,
     "metadata": {},
     "output_type": "execute_result"
    }
   ],
   "source": [
    "x_test_std = pd.DataFrame(scaler.transform(x_test), columns=x_train.columns)\n",
    "x_test_std.describe()"
   ]
  },
  {
   "cell_type": "code",
   "execution_count": 58,
   "id": "22dce07b",
   "metadata": {},
   "outputs": [
    {
     "data": {
      "text/plain": [
       "LogisticRegression(max_iter=200)"
      ]
     },
     "execution_count": 58,
     "metadata": {},
     "output_type": "execute_result"
    }
   ],
   "source": [
    "model_std = LogisticRegression(solver='lbfgs', max_iter=200)\n",
    "model_std.fit(x_train_std, y_train.values.ravel())"
   ]
  },
  {
   "cell_type": "code",
   "execution_count": 57,
   "id": "257fa245",
   "metadata": {},
   "outputs": [],
   "source": [
    "pred_train_std = model_std.predict(x_train_std)\n",
    "pred_test_std = model_std.predict(x_test_std)"
   ]
  },
  {
   "cell_type": "code",
   "execution_count": 63,
   "id": "6a6b243c",
   "metadata": {},
   "outputs": [
    {
     "data": {
      "text/plain": [
       "0.6257575757575757"
      ]
     },
     "execution_count": 63,
     "metadata": {},
     "output_type": "execute_result"
    }
   ],
   "source": [
    "r2_score(y_train, pred_train_std) "
   ]
  },
  {
   "cell_type": "code",
   "execution_count": 64,
   "id": "8cd7dd5e",
   "metadata": {},
   "outputs": [
    {
     "data": {
      "text/plain": [
       "0.3800000000000001"
      ]
     },
     "execution_count": 64,
     "metadata": {},
     "output_type": "execute_result"
    }
   ],
   "source": [
    "r2_score(y_test, pred_test_std) "
   ]
  },
  {
   "cell_type": "code",
   "execution_count": 65,
   "id": "f85e895a",
   "metadata": {},
   "outputs": [
    {
     "data": {
      "text/plain": [
       "0.9635627530364372"
      ]
     },
     "execution_count": 65,
     "metadata": {},
     "output_type": "execute_result"
    }
   ],
   "source": [
    "accuracy_score(y_train, pred_train_std)"
   ]
  },
  {
   "cell_type": "code",
   "execution_count": 66,
   "id": "639d71c5",
   "metadata": {},
   "outputs": [
    {
     "data": {
      "text/plain": [
       "0.9032258064516129"
      ]
     },
     "execution_count": 66,
     "metadata": {},
     "output_type": "execute_result"
    }
   ],
   "source": [
    "accuracy_score(y_test, pred_test_std)"
   ]
  },
  {
   "cell_type": "code",
   "execution_count": 98,
   "id": "e48e76c7",
   "metadata": {},
   "outputs": [
    {
     "data": {
      "text/plain": [
       "0.03643724696356275"
      ]
     },
     "execution_count": 98,
     "metadata": {},
     "output_type": "execute_result"
    }
   ],
   "source": [
    "mean_squared_error(y_train, pred_train_std)"
   ]
  },
  {
   "cell_type": "code",
   "execution_count": 99,
   "id": "02126fa1",
   "metadata": {},
   "outputs": [
    {
     "data": {
      "text/plain": [
       "0.0967741935483871"
      ]
     },
     "execution_count": 99,
     "metadata": {},
     "output_type": "execute_result"
    }
   ],
   "source": [
    "mean_squared_error(y_test, pred_test_std)"
   ]
  },
  {
   "cell_type": "markdown",
   "id": "2ff4cc62",
   "metadata": {},
   "source": [
    "Получили результаты лучше, но на тестовой выборке значение детерминации не вызывает доверие. Попробуем изучить другие модели"
   ]
  },
  {
   "cell_type": "code",
   "execution_count": 67,
   "id": "c8bbb03c",
   "metadata": {},
   "outputs": [
    {
     "data": {
      "text/plain": [
       "DecisionTreeRegressor(random_state=1)"
      ]
     },
     "execution_count": 67,
     "metadata": {},
     "output_type": "execute_result"
    }
   ],
   "source": [
    "model_tree_reg = DecisionTreeRegressor(random_state=1)\n",
    "model_tree_reg.fit(x_train, y_train)"
   ]
  },
  {
   "cell_type": "code",
   "execution_count": 102,
   "id": "0e64dc9e",
   "metadata": {},
   "outputs": [],
   "source": [
    "tree_train_reg = model_tree_reg.predict(x_train)\n",
    "tree_test_reg = model_tree_reg.predict(x_test)"
   ]
  },
  {
   "cell_type": "code",
   "execution_count": 103,
   "id": "55539b29",
   "metadata": {},
   "outputs": [
    {
     "data": {
      "text/plain": [
       "0.9792087542087542"
      ]
     },
     "execution_count": 103,
     "metadata": {},
     "output_type": "execute_result"
    }
   ],
   "source": [
    "r2_score(y_train, tree_train_reg)"
   ]
  },
  {
   "cell_type": "code",
   "execution_count": 107,
   "id": "b17e4816",
   "metadata": {},
   "outputs": [
    {
     "data": {
      "text/plain": [
       "0.07000000000000017"
      ]
     },
     "execution_count": 107,
     "metadata": {},
     "output_type": "execute_result"
    }
   ],
   "source": [
    "r2_score(y_test, tree_test_reg)"
   ]
  },
  {
   "cell_type": "code",
   "execution_count": 109,
   "id": "f31ddd87",
   "metadata": {},
   "outputs": [
    {
     "data": {
      "text/plain": [
       "0.0020242914979757085"
      ]
     },
     "execution_count": 109,
     "metadata": {},
     "output_type": "execute_result"
    }
   ],
   "source": [
    "mean_squared_error(y_train, tree_train_reg)\n"
   ]
  },
  {
   "cell_type": "code",
   "execution_count": 110,
   "id": "77f917ae",
   "metadata": {},
   "outputs": [
    {
     "data": {
      "text/plain": [
       "0.14516129032258066"
      ]
     },
     "execution_count": 110,
     "metadata": {},
     "output_type": "execute_result"
    }
   ],
   "source": [
    "mean_squared_error(y_test, tree_test_reg)"
   ]
  },
  {
   "cell_type": "code",
   "execution_count": 73,
   "id": "c5d88412",
   "metadata": {},
   "outputs": [
    {
     "data": {
      "image/png": "[encoded data removed]",
      "text/plain": [
       "<Figure size 720x720 with 1 Axes>"
      ]
     },
     "metadata": {
      "needs_background": "light"
     },
     "output_type": "display_data"
    }
   ],
   "source": [
    "plt.figure(figsize=(10, 10))\n",
    "plot_tree(model_tree_reg, max_depth=9, filled=False, feature_names=x_train.columns);"
   ]
  },
  {
   "cell_type": "markdown",
   "id": "b6037e92",
   "metadata": {},
   "source": [
    "Дерево решений по регрессии также заставляет задумываться. Попробуем использовать модель-классификатор"
   ]
  },
  {
   "cell_type": "code",
   "execution_count": 111,
   "id": "da53caeb",
   "metadata": {},
   "outputs": [
    {
     "data": {
      "text/plain": [
       "DecisionTreeClassifier(random_state=1)"
      ]
     },
     "execution_count": 111,
     "metadata": {},
     "output_type": "execute_result"
    }
   ],
   "source": [
    "model_tree_clas = DecisionTreeClassifier(random_state=1)\n",
    "model_tree_clas.fit(x_train, y_train)"
   ]
  },
  {
   "cell_type": "code",
   "execution_count": 114,
   "id": "057a1f01",
   "metadata": {},
   "outputs": [],
   "source": [
    "tree_train_clas = model_tree_clas.predict(x_train)\n",
    "tree_test_clas = model_tree_clas.predict(x_test)"
   ]
  },
  {
   "cell_type": "code",
   "execution_count": 174,
   "id": "c8863d84",
   "metadata": {},
   "outputs": [],
   "source": [
    "cr_train = pd.DataFrame(classification_report(y_train, tree_train_clas, output_dict=True))\n",
    "cr_train = cr_train.transpose()"
   ]
  },
  {
   "cell_type": "code",
   "execution_count": 182,
   "id": "e9a65412",
   "metadata": {},
   "outputs": [
    {
     "data": {
      "image/png": "[encoded data removed]",
      "text/plain": [
       "<Figure size 720x720 with 2 Axes>"
      ]
     },
     "metadata": {
      "needs_background": "light"
     },
     "output_type": "display_data"
    }
   ],
   "source": [
    "plt.figure(figsize=(10,10))\n",
    "ax = sns.heatmap(cr_train, vmin=0.5, vmax=1, annot=True, fmt='.3g', cmap='Blues') \n",
    "ax.xaxis.tick_top()"
   ]
  },
  {
   "cell_type": "code",
   "execution_count": 177,
   "id": "6e0e6e80",
   "metadata": {},
   "outputs": [],
   "source": [
    "cr_test = pd.DataFrame(classification_report(y_test, tree_test_clas, output_dict=True))\n",
    "cr_test = cr_test.transpose()"
   ]
  },
  {
   "cell_type": "code",
   "execution_count": 185,
   "id": "2547cb01",
   "metadata": {},
   "outputs": [
    {
     "data": {
      "image/png": "[encoded data removed]",
      "text/plain": [
       "<Figure size 720x720 with 2 Axes>"
      ]
     },
     "metadata": {
      "needs_background": "light"
     },
     "output_type": "display_data"
    }
   ],
   "source": [
    "plt.figure(figsize=(10,10))\n",
    "ax = sns.heatmap(cr_test, vmin=0.5, vmax=1, annot=True, cmap='Reds')    \n",
    "ax.xaxis.tick_top()"
   ]
  },
  {
   "cell_type": "code",
   "execution_count": 121,
   "id": "cc287cda",
   "metadata": {},
   "outputs": [
    {
     "data": {
      "image/png": "[encoded data removed]",
      "text/plain": [
       "<Figure size 432x288 with 1 Axes>"
      ]
     },
     "metadata": {
      "needs_background": "light"
     },
     "output_type": "display_data"
    }
   ],
   "source": [
    "plt.Figure(figsize=(10, 10))\n",
    "plot_tree(model_tree_clas, max_depth=9, filled=False, feature_names=x_train.columns);"
   ]
  },
  {
   "cell_type": "markdown",
   "id": "bae88032",
   "metadata": {},
   "source": [
    "Резюмируя все данные выше:\n",
    "Данные имею явный дисбаланс, поэтому метрика accuracy малоинформативна и будет в данном случае бесполезна;\n",
    "Больше всего подходит модель дерева классификации(из тех что были рассмотрены здесь);\n",
    "Данные коэффициента детерминации по регрессионным моделям говорят о большом разбросе значений относительно среднего;\n",
    "Сама задача является по своей сути регрессионной;\n",
    "Рекомендуется скорректировать данные и проверить больше регрессионных моделей"
   ]
  }
 ],
 "metadata": {
  "kernelspec": {
   "display_name": "Python 3 (ipykernel)",
   "language": "python",
   "name": "python3"
  },
  "language_info": {
   "codemirror_mode": {
    "name": "ipython",
    "version": 3
   },
   "file_extension": ".py",
   "mimetype": "text/x-python",
   "name": "python",
   "nbconvert_exporter": "python",
   "pygments_lexer": "ipython3",
   "version": "3.9.12"
  }
 },
 "nbformat": 4,
 "nbformat_minor": 5
}
